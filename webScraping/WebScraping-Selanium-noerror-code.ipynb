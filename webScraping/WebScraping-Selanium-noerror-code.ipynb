{
 "cells": [
  {
   "cell_type": "code",
   "execution_count": 1,
   "id": "d89d5e9d",
   "metadata": {},
   "outputs": [
    {
     "ename": "StaleElementReferenceException",
     "evalue": "Message: stale element reference: element is not attached to the page document\n  (Session info: chrome=92.0.4515.107)\n",
     "output_type": "error",
     "traceback": [
      "\u001b[1;31m---------------------------------------------------------------------------\u001b[0m",
      "\u001b[1;31mStaleElementReferenceException\u001b[0m            Traceback (most recent call last)",
      "\u001b[1;32m<ipython-input-1-d548687944c7>\u001b[0m in \u001b[0;36m<module>\u001b[1;34m\u001b[0m\n\u001b[0;32m     38\u001b[0m \u001b[1;33m\u001b[0m\u001b[0m\n\u001b[0;32m     39\u001b[0m     \u001b[1;32mfor\u001b[0m \u001b[0mi\u001b[0m \u001b[1;32min\u001b[0m \u001b[0mrange\u001b[0m\u001b[1;33m(\u001b[0m\u001b[0mlen\u001b[0m\u001b[1;33m(\u001b[0m\u001b[0mapt_rent_price\u001b[0m\u001b[1;33m)\u001b[0m\u001b[1;33m)\u001b[0m\u001b[1;33m:\u001b[0m\u001b[1;33m\u001b[0m\u001b[1;33m\u001b[0m\u001b[0m\n\u001b[1;32m---> 40\u001b[1;33m         tem_data12={\"apt_name\":apt_name[i].text,\"apt_rent_month\":apt_rent_price[i].text,\"BHK\":apt_type[i].text,\n\u001b[0m\u001b[0;32m     41\u001b[0m                    \"sq_ft\":sq_ft[i].text,\"description\":description[i].text}\n\u001b[0;32m     42\u001b[0m         \u001b[0mmulti1\u001b[0m\u001b[1;33m.\u001b[0m\u001b[0mappend\u001b[0m\u001b[1;33m(\u001b[0m\u001b[0mtem_data12\u001b[0m\u001b[1;33m)\u001b[0m\u001b[1;33m\u001b[0m\u001b[1;33m\u001b[0m\u001b[0m\n",
      "\u001b[1;32m~\\anaconda3\\lib\\site-packages\\selenium\\webdriver\\remote\\webelement.py\u001b[0m in \u001b[0;36mtext\u001b[1;34m(self)\u001b[0m\n\u001b[0;32m     74\u001b[0m     \u001b[1;32mdef\u001b[0m \u001b[0mtext\u001b[0m\u001b[1;33m(\u001b[0m\u001b[0mself\u001b[0m\u001b[1;33m)\u001b[0m\u001b[1;33m:\u001b[0m\u001b[1;33m\u001b[0m\u001b[1;33m\u001b[0m\u001b[0m\n\u001b[0;32m     75\u001b[0m         \u001b[1;34m\"\"\"The text of the element.\"\"\"\u001b[0m\u001b[1;33m\u001b[0m\u001b[1;33m\u001b[0m\u001b[0m\n\u001b[1;32m---> 76\u001b[1;33m         \u001b[1;32mreturn\u001b[0m \u001b[0mself\u001b[0m\u001b[1;33m.\u001b[0m\u001b[0m_execute\u001b[0m\u001b[1;33m(\u001b[0m\u001b[0mCommand\u001b[0m\u001b[1;33m.\u001b[0m\u001b[0mGET_ELEMENT_TEXT\u001b[0m\u001b[1;33m)\u001b[0m\u001b[1;33m[\u001b[0m\u001b[1;34m'value'\u001b[0m\u001b[1;33m]\u001b[0m\u001b[1;33m\u001b[0m\u001b[1;33m\u001b[0m\u001b[0m\n\u001b[0m\u001b[0;32m     77\u001b[0m \u001b[1;33m\u001b[0m\u001b[0m\n\u001b[0;32m     78\u001b[0m     \u001b[1;32mdef\u001b[0m \u001b[0mclick\u001b[0m\u001b[1;33m(\u001b[0m\u001b[0mself\u001b[0m\u001b[1;33m)\u001b[0m\u001b[1;33m:\u001b[0m\u001b[1;33m\u001b[0m\u001b[1;33m\u001b[0m\u001b[0m\n",
      "\u001b[1;32m~\\anaconda3\\lib\\site-packages\\selenium\\webdriver\\remote\\webelement.py\u001b[0m in \u001b[0;36m_execute\u001b[1;34m(self, command, params)\u001b[0m\n\u001b[0;32m    631\u001b[0m             \u001b[0mparams\u001b[0m \u001b[1;33m=\u001b[0m \u001b[1;33m{\u001b[0m\u001b[1;33m}\u001b[0m\u001b[1;33m\u001b[0m\u001b[1;33m\u001b[0m\u001b[0m\n\u001b[0;32m    632\u001b[0m         \u001b[0mparams\u001b[0m\u001b[1;33m[\u001b[0m\u001b[1;34m'id'\u001b[0m\u001b[1;33m]\u001b[0m \u001b[1;33m=\u001b[0m \u001b[0mself\u001b[0m\u001b[1;33m.\u001b[0m\u001b[0m_id\u001b[0m\u001b[1;33m\u001b[0m\u001b[1;33m\u001b[0m\u001b[0m\n\u001b[1;32m--> 633\u001b[1;33m         \u001b[1;32mreturn\u001b[0m \u001b[0mself\u001b[0m\u001b[1;33m.\u001b[0m\u001b[0m_parent\u001b[0m\u001b[1;33m.\u001b[0m\u001b[0mexecute\u001b[0m\u001b[1;33m(\u001b[0m\u001b[0mcommand\u001b[0m\u001b[1;33m,\u001b[0m \u001b[0mparams\u001b[0m\u001b[1;33m)\u001b[0m\u001b[1;33m\u001b[0m\u001b[1;33m\u001b[0m\u001b[0m\n\u001b[0m\u001b[0;32m    634\u001b[0m \u001b[1;33m\u001b[0m\u001b[0m\n\u001b[0;32m    635\u001b[0m     \u001b[1;32mdef\u001b[0m \u001b[0mfind_element\u001b[0m\u001b[1;33m(\u001b[0m\u001b[0mself\u001b[0m\u001b[1;33m,\u001b[0m \u001b[0mby\u001b[0m\u001b[1;33m=\u001b[0m\u001b[0mBy\u001b[0m\u001b[1;33m.\u001b[0m\u001b[0mID\u001b[0m\u001b[1;33m,\u001b[0m \u001b[0mvalue\u001b[0m\u001b[1;33m=\u001b[0m\u001b[1;32mNone\u001b[0m\u001b[1;33m)\u001b[0m\u001b[1;33m:\u001b[0m\u001b[1;33m\u001b[0m\u001b[1;33m\u001b[0m\u001b[0m\n",
      "\u001b[1;32m~\\anaconda3\\lib\\site-packages\\selenium\\webdriver\\remote\\webdriver.py\u001b[0m in \u001b[0;36mexecute\u001b[1;34m(self, driver_command, params)\u001b[0m\n\u001b[0;32m    319\u001b[0m         \u001b[0mresponse\u001b[0m \u001b[1;33m=\u001b[0m \u001b[0mself\u001b[0m\u001b[1;33m.\u001b[0m\u001b[0mcommand_executor\u001b[0m\u001b[1;33m.\u001b[0m\u001b[0mexecute\u001b[0m\u001b[1;33m(\u001b[0m\u001b[0mdriver_command\u001b[0m\u001b[1;33m,\u001b[0m \u001b[0mparams\u001b[0m\u001b[1;33m)\u001b[0m\u001b[1;33m\u001b[0m\u001b[1;33m\u001b[0m\u001b[0m\n\u001b[0;32m    320\u001b[0m         \u001b[1;32mif\u001b[0m \u001b[0mresponse\u001b[0m\u001b[1;33m:\u001b[0m\u001b[1;33m\u001b[0m\u001b[1;33m\u001b[0m\u001b[0m\n\u001b[1;32m--> 321\u001b[1;33m             \u001b[0mself\u001b[0m\u001b[1;33m.\u001b[0m\u001b[0merror_handler\u001b[0m\u001b[1;33m.\u001b[0m\u001b[0mcheck_response\u001b[0m\u001b[1;33m(\u001b[0m\u001b[0mresponse\u001b[0m\u001b[1;33m)\u001b[0m\u001b[1;33m\u001b[0m\u001b[1;33m\u001b[0m\u001b[0m\n\u001b[0m\u001b[0;32m    322\u001b[0m             response['value'] = self._unwrap_value(\n\u001b[0;32m    323\u001b[0m                 response.get('value', None))\n",
      "\u001b[1;32m~\\anaconda3\\lib\\site-packages\\selenium\\webdriver\\remote\\errorhandler.py\u001b[0m in \u001b[0;36mcheck_response\u001b[1;34m(self, response)\u001b[0m\n\u001b[0;32m    240\u001b[0m                 \u001b[0malert_text\u001b[0m \u001b[1;33m=\u001b[0m \u001b[0mvalue\u001b[0m\u001b[1;33m[\u001b[0m\u001b[1;34m'alert'\u001b[0m\u001b[1;33m]\u001b[0m\u001b[1;33m.\u001b[0m\u001b[0mget\u001b[0m\u001b[1;33m(\u001b[0m\u001b[1;34m'text'\u001b[0m\u001b[1;33m)\u001b[0m\u001b[1;33m\u001b[0m\u001b[1;33m\u001b[0m\u001b[0m\n\u001b[0;32m    241\u001b[0m             \u001b[1;32mraise\u001b[0m \u001b[0mexception_class\u001b[0m\u001b[1;33m(\u001b[0m\u001b[0mmessage\u001b[0m\u001b[1;33m,\u001b[0m \u001b[0mscreen\u001b[0m\u001b[1;33m,\u001b[0m \u001b[0mstacktrace\u001b[0m\u001b[1;33m,\u001b[0m \u001b[0malert_text\u001b[0m\u001b[1;33m)\u001b[0m\u001b[1;33m\u001b[0m\u001b[1;33m\u001b[0m\u001b[0m\n\u001b[1;32m--> 242\u001b[1;33m         \u001b[1;32mraise\u001b[0m \u001b[0mexception_class\u001b[0m\u001b[1;33m(\u001b[0m\u001b[0mmessage\u001b[0m\u001b[1;33m,\u001b[0m \u001b[0mscreen\u001b[0m\u001b[1;33m,\u001b[0m \u001b[0mstacktrace\u001b[0m\u001b[1;33m)\u001b[0m\u001b[1;33m\u001b[0m\u001b[1;33m\u001b[0m\u001b[0m\n\u001b[0m\u001b[0;32m    243\u001b[0m \u001b[1;33m\u001b[0m\u001b[0m\n\u001b[0;32m    244\u001b[0m     \u001b[1;32mdef\u001b[0m \u001b[0m_value_or_default\u001b[0m\u001b[1;33m(\u001b[0m\u001b[0mself\u001b[0m\u001b[1;33m,\u001b[0m \u001b[0mobj\u001b[0m\u001b[1;33m,\u001b[0m \u001b[0mkey\u001b[0m\u001b[1;33m,\u001b[0m \u001b[0mdefault\u001b[0m\u001b[1;33m)\u001b[0m\u001b[1;33m:\u001b[0m\u001b[1;33m\u001b[0m\u001b[1;33m\u001b[0m\u001b[0m\n",
      "\u001b[1;31mStaleElementReferenceException\u001b[0m: Message: stale element reference: element is not attached to the page document\n  (Session info: chrome=92.0.4515.107)\n"
     ]
    }
   ],
   "source": [
    "import pandas as pd\n",
    "from openpyxl import Workbook\n",
    "from selenium.webdriver.common.by import By\n",
    "import selenium\n",
    "#import xlsxwriter\n",
    "from selenium import webdriver as wb\n",
    "from webdriver_manager.chrome import ChromeDriverManager\n",
    "webD=wb.Chrome('F:\\chromedriver_win32\\\\chromedriver.exe') # here give the path of downloaded zip file\n",
    "from selenium import webdriver\n",
    "import time\n",
    "webD.get(\"https://www.99acres.com/\")\n",
    "\n",
    "multi1=[]\n",
    "for page in range(1,125, 1):\n",
    "    page_url = \"https://www.99acres.com/property-for-rent-in-jaipur-ffid-page-\" + str(page)\n",
    "    webD.get(page_url)\n",
    "    try:\n",
    "        apt_name=webD.find_elements_by_xpath(\"//td[contains(@class,'bold srpTuple__spacer10')]\")\n",
    "    except:\n",
    "        apt_name=None\n",
    "    try:\n",
    "        apt_rent_price=webD.find_elements_by_xpath(\"//td[@id='srp_tuple_price']\") #//td[@id='srp_tuple_price'],//*[@id='srp_tuple_price']\n",
    "    except:\n",
    "        apt_rent_price=None\n",
    "    try:\n",
    "        apt_type=webD.find_elements_by_xpath(\"//td[@id='srp_tuple_bedroom']\")\n",
    "    except:\n",
    "        apt_type=None\n",
    "    try:\n",
    "        sq_ft=webD.find_elements_by_xpath(\"//td[@id='srp_tuple_primary_area']\")\n",
    "    except:\n",
    "        sq_ft=None\n",
    "    try:\n",
    "        description=webD.find_elements_by_xpath(\"//a[@id='srp_tuple_property_title']\")\n",
    "   \n",
    "    except:\n",
    "        description=None\n",
    "       \n",
    "    for i in range(len(apt_rent_price)):\n",
    "        tem_data12={\"apt_name\":apt_name[i].text,\"apt_rent_month\":apt_rent_price[i].text,\"BHK\":apt_type[i].text,\n",
    "                   \"sq_ft\":sq_ft[i].text,\"description\":description[i].text}\n",
    "        multi1.append(tem_data12)\n",
    "   \n",
    "\n",
    "time.sleep(1)\n"
   ]
  },
  {
   "cell_type": "code",
   "execution_count": 3,
   "id": "79b8a46e",
   "metadata": {},
   "outputs": [
    {
     "name": "stdout",
     "output_type": "stream",
     "text": [
      "(8569, 5)\n"
     ]
    },
    {
     "data": {
      "text/html": [
       "<div>\n",
       "<style scoped>\n",
       "    .dataframe tbody tr th:only-of-type {\n",
       "        vertical-align: middle;\n",
       "    }\n",
       "\n",
       "    .dataframe tbody tr th {\n",
       "        vertical-align: top;\n",
       "    }\n",
       "\n",
       "    .dataframe thead th {\n",
       "        text-align: right;\n",
       "    }\n",
       "</style>\n",
       "<table border=\"1\" class=\"dataframe\">\n",
       "  <thead>\n",
       "    <tr style=\"text-align: right;\">\n",
       "      <th></th>\n",
       "      <th>apt_name</th>\n",
       "      <th>apt_rent_month</th>\n",
       "      <th>BHK</th>\n",
       "      <th>sq_ft</th>\n",
       "      <th>description</th>\n",
       "    </tr>\n",
       "  </thead>\n",
       "  <tbody>\n",
       "    <tr>\n",
       "      <th>0</th>\n",
       "      <td></td>\n",
       "      <td>₹ 96.67 Lac\\n₹ 7,407/sq.ft.</td>\n",
       "      <td>2 BHK\\n2 Baths</td>\n",
       "      <td>1,305 sq.ft.\\n(121 sq.m.) Plot Area</td>\n",
       "      <td>2 Bedroom Independent House in Malviya Nagar</td>\n",
       "    </tr>\n",
       "    <tr>\n",
       "      <th>1</th>\n",
       "      <td>MD G4 Heights</td>\n",
       "      <td>₹ 55 Lac</td>\n",
       "      <td>3 BHK\\n3 Baths</td>\n",
       "      <td>1,373 sq.ft.\\n(128 sq.m.) Super built-up Area</td>\n",
       "      <td>3 BHK Residential Apartment in Vaishali Nagar</td>\n",
       "    </tr>\n",
       "    <tr>\n",
       "      <th>2</th>\n",
       "      <td>Emaar Vaikunth at Jaipur Greens</td>\n",
       "      <td>₹ 38 - 95 Lac\\n₹ 2,111/sq.ft.</td>\n",
       "      <td></td>\n",
       "      <td>1,800-4,500 sq.ft.\\n(167-418 sq.m.) Plot Area</td>\n",
       "      <td>Residential land / Plot in Mahapura</td>\n",
       "    </tr>\n",
       "    <tr>\n",
       "      <th>3</th>\n",
       "      <td>Gokul Kripa Kisaan Green Residency</td>\n",
       "      <td>₹ 11.65 - 20.99 Lac</td>\n",
       "      <td></td>\n",
       "      <td>999-1,800 sq.ft.\\n(93-167 sq.m.) Plot Area</td>\n",
       "      <td>Residential land / Plot in Jaisinghpura</td>\n",
       "    </tr>\n",
       "    <tr>\n",
       "      <th>4</th>\n",
       "      <td>Vinoba Bhave nagar</td>\n",
       "      <td>₹ 2.53 Cr\\n₹ 6,111/sq.ft.</td>\n",
       "      <td></td>\n",
       "      <td>4,140 sq.ft.\\n(385 sq.m.) Plot Area</td>\n",
       "      <td>Residential land / Plot in Vaishali Nagar</td>\n",
       "    </tr>\n",
       "  </tbody>\n",
       "</table>\n",
       "</div>"
      ],
      "text/plain": [
       "                             apt_name                 apt_rent_month  \\\n",
       "0                                        ₹ 96.67 Lac\\n₹ 7,407/sq.ft.   \n",
       "1                       MD G4 Heights                       ₹ 55 Lac   \n",
       "2     Emaar Vaikunth at Jaipur Greens  ₹ 38 - 95 Lac\\n₹ 2,111/sq.ft.   \n",
       "3  Gokul Kripa Kisaan Green Residency            ₹ 11.65 - 20.99 Lac   \n",
       "4                  Vinoba Bhave nagar      ₹ 2.53 Cr\\n₹ 6,111/sq.ft.   \n",
       "\n",
       "              BHK                                          sq_ft  \\\n",
       "0  2 BHK\\n2 Baths            1,305 sq.ft.\\n(121 sq.m.) Plot Area   \n",
       "1  3 BHK\\n3 Baths  1,373 sq.ft.\\n(128 sq.m.) Super built-up Area   \n",
       "2                  1,800-4,500 sq.ft.\\n(167-418 sq.m.) Plot Area   \n",
       "3                     999-1,800 sq.ft.\\n(93-167 sq.m.) Plot Area   \n",
       "4                            4,140 sq.ft.\\n(385 sq.m.) Plot Area   \n",
       "\n",
       "                                     description  \n",
       "0   2 Bedroom Independent House in Malviya Nagar  \n",
       "1  3 BHK Residential Apartment in Vaishali Nagar  \n",
       "2            Residential land / Plot in Mahapura  \n",
       "3        Residential land / Plot in Jaisinghpura  \n",
       "4      Residential land / Plot in Vaishali Nagar  "
      ]
     },
     "execution_count": 3,
     "metadata": {},
     "output_type": "execute_result"
    }
   ],
   "source": [
    "raw_99acres_data1=pd.DataFrame(multi1)\n",
    "print(raw_99acres_data1.shape)\n",
    "raw_99acres_data1.head()"
   ]
  },
  {
   "cell_type": "code",
   "execution_count": 6,
   "id": "38eb5d5e",
   "metadata": {},
   "outputs": [],
   "source": [
    "raw_99acres_data1.to_csv('Jaipur_rental_All.csv')"
   ]
  },
  {
   "cell_type": "code",
   "execution_count": null,
   "id": "e979b237",
   "metadata": {},
   "outputs": [],
   "source": []
  }
 ],
 "metadata": {
  "kernelspec": {
   "display_name": "Python 3",
   "language": "python",
   "name": "python3"
  },
  "language_info": {
   "codemirror_mode": {
    "name": "ipython",
    "version": 3
   },
   "file_extension": ".py",
   "mimetype": "text/x-python",
   "name": "python",
   "nbconvert_exporter": "python",
   "pygments_lexer": "ipython3",
   "version": "3.8.10"
  }
 },
 "nbformat": 4,
 "nbformat_minor": 5
}
